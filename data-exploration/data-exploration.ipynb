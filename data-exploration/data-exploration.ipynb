{
 "cells": [
  {
   "cell_type": "code",
   "execution_count": 16,
   "id": "a1f32f8e-1cac-46a2-abf2-46d837a39c24",
   "metadata": {},
   "outputs": [],
   "source": [
    "import pandas as pd\n",
    "df = pd.read_csv(\"data/2007_2025_avg_odds_salary_players_champ_rk.csv\")\n",
    "df = df.drop(columns=['Unnamed: 0'])"
   ]
  },
  {
   "cell_type": "markdown",
   "id": "6ffee301-91a7-41dd-a33e-d132aad1b73d",
   "metadata": {},
   "source": [
    "## Sweet Viz"
   ]
  },
  {
   "cell_type": "code",
   "execution_count": null,
   "id": "dec2e3ed-f1ff-4d34-b152-c75b5e74d12c",
   "metadata": {},
   "outputs": [],
   "source": [
    "import sweetviz as sv\n",
    "sweet_report = sv.analyze(df)\n",
    "sweet_report.show_html('sweet_viz.html')\n"
   ]
  },
  {
   "cell_type": "markdown",
   "id": "6c0cc0cf-82b6-4cc4-a1f1-33262f320bdf",
   "metadata": {},
   "source": [
    "## Pandas Profiling"
   ]
  },
  {
   "cell_type": "code",
   "execution_count": 19,
   "id": "046d0b19-8189-4920-97ba-fe4635643ee4",
   "metadata": {},
   "outputs": [],
   "source": [
    "from ydata_profiling import ProfileReport\n",
    "\n",
    "profile = ProfileReport(df, title=\"Profiling Report\")"
   ]
  },
  {
   "cell_type": "code",
   "execution_count": null,
   "id": "2b07292e-cf06-44ec-8f3e-35c388acfb3e",
   "metadata": {},
   "outputs": [],
   "source": [
    "profile.to_file('ydata_profiling.html')"
   ]
  },
  {
   "cell_type": "markdown",
   "id": "5bb0be4f-e3f8-438f-9add-b1b5ccee53ac",
   "metadata": {},
   "source": [
    "## AutoViz"
   ]
  },
  {
   "cell_type": "code",
   "execution_count": null,
   "id": "5cf2d113-3db5-4e17-913c-31268fad0c88",
   "metadata": {},
   "outputs": [],
   "source": [
    "from autoviz.AutoViz_Class import AutoViz_Class\n",
    "%matplotlib inline"
   ]
  },
  {
   "cell_type": "code",
   "execution_count": null,
   "id": "a54b96d5-666a-44b8-8125-5039583f0924",
   "metadata": {},
   "outputs": [],
   "source": [
    "AutoViz_Class().AutoViz('data/2007_2025_avg_odds_salary_players_champ_rk.csv')"
   ]
  },
  {
   "cell_type": "code",
   "execution_count": null,
   "id": "2b879547-ee73-4120-abca-1c9ff40c1845",
   "metadata": {},
   "outputs": [],
   "source": []
  }
 ],
 "metadata": {
  "kernelspec": {
   "display_name": "Python 3 (ipykernel)",
   "language": "python",
   "name": "python3"
  },
  "language_info": {
   "codemirror_mode": {
    "name": "ipython",
    "version": 3
   },
   "file_extension": ".py",
   "mimetype": "text/x-python",
   "name": "python",
   "nbconvert_exporter": "python",
   "pygments_lexer": "ipython3",
   "version": "3.12.3"
  }
 },
 "nbformat": 4,
 "nbformat_minor": 5
}
